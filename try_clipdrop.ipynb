{
 "cells": [
  {
   "cell_type": "code",
   "execution_count": 1,
   "metadata": {},
   "outputs": [],
   "source": [
    "from dotenv import load_dotenv\n",
    "from helpers import compose_images_from_json, remove_background"
   ]
  },
  {
   "cell_type": "code",
   "execution_count": 2,
   "metadata": {},
   "outputs": [
    {
     "name": "stdout",
     "output_type": "stream",
     "text": [
      "Background removal successful!\n"
     ]
    }
   ],
   "source": [
    "import os\n",
    "load_dotenv()\n",
    "\n",
    "api_key = os.environ['api_key']\n",
    "input_path = 'input_image.jpg'\n",
    "output_path = 'output_image.png'\n",
    "\n",
    "success = remove_background(input_path, output_path, api_key)\n",
    "if success:\n",
    "    print(\"Background removal successful!\")\n",
    "else:\n",
    "    print(\"Failed to remove background.\")"
   ]
  },
  {
   "cell_type": "code",
   "execution_count": 34,
   "metadata": {},
   "outputs": [
    {
     "name": "stdout",
     "output_type": "stream",
     "text": [
      "forest\n",
      "Composed image saved to forest_composition_output.png\n",
      "village\n",
      "Composed image saved to village_composition_output.png\n",
      "forest_hut\n",
      "Composed image saved to forest_hut_composition_output.png\n",
      "treasure_room\n",
      "Composed image saved to treasure_room_composition_output.png\n"
     ]
    }
   ],
   "source": [
    "story_keys = [\n",
    "    'forest',\n",
    "    'village', \n",
    "    'forest_hut',\n",
    "    'treasure_room',     \n",
    "]\n",
    "\n",
    "outputs = []\n",
    "\n",
    "for key in story_keys:\n",
    "    print(key)\n",
    "    output_image_path = f'{key}_composition_output.png'\n",
    "    compose_images_from_json(\n",
    "        input_image_path = f'output_image.png',  \n",
    "        json_path = f'backgrounds/{key}_composition.json',\n",
    "        output_image_path = output_image_path\n",
    "    )\n",
    "    outputs.append(output_image_path)"
   ]
  },
  {
   "cell_type": "code",
   "execution_count": 3,
   "metadata": {},
   "outputs": [
    {
     "name": "stdout",
     "output_type": "stream",
     "text": [
      "Composed image saved to forest_composition_output.png\n"
     ]
    }
   ],
   "source": [
    "compose_images_from_json(\n",
    "    input_image_path = 'output_image.png',  \n",
    "    json_path = 'backgrounds/forest_composition.json',\n",
    "    output_image_path = 'forest_composition_output.png'\n",
    ")"
   ]
  },
  {
   "cell_type": "code",
   "execution_count": 3,
   "metadata": {},
   "outputs": [
    {
     "name": "stdout",
     "output_type": "stream",
     "text": [
      "Composed image saved to village_composition_output.png\n"
     ]
    }
   ],
   "source": [
    "compose_images_from_json(\n",
    "    input_image_path = 'output_image.png',  \n",
    "    json_path = 'backgrounds/village_composition.json',\n",
    "    output_image_path = 'village_composition_output.png'\n",
    ")"
   ]
  },
  {
   "cell_type": "code",
   "execution_count": 17,
   "metadata": {},
   "outputs": [
    {
     "name": "stdout",
     "output_type": "stream",
     "text": [
      "Composed image saved to treasure_room_composition_output.png\n"
     ]
    }
   ],
   "source": [
    "compose_images_from_json(\n",
    "    input_image_path = 'output_image.png',  \n",
    "    json_path = 'backgrounds/treasure_room_composition.json',\n",
    "    output_image_path = 'treasure_room_composition_output.png'\n",
    ")"
   ]
  },
  {
   "cell_type": "code",
   "execution_count": 28,
   "metadata": {},
   "outputs": [
    {
     "name": "stdout",
     "output_type": "stream",
     "text": [
      "Composed image saved to forest_hut_composition_output.png\n"
     ]
    }
   ],
   "source": [
    "compose_images_from_json(\n",
    "    input_image_path = 'output_image.png',  \n",
    "    json_path = 'backgrounds/forest_hut_composition.json',\n",
    "    output_image_path = 'forest_hut_composition_output.png'\n",
    ")"
   ]
  }
 ],
 "metadata": {
  "kernelspec": {
   "display_name": ".venv",
   "language": "python",
   "name": "python3"
  },
  "language_info": {
   "codemirror_mode": {
    "name": "ipython",
    "version": 3
   },
   "file_extension": ".py",
   "mimetype": "text/x-python",
   "name": "python",
   "nbconvert_exporter": "python",
   "pygments_lexer": "ipython3",
   "version": "3.10.4"
  },
  "orig_nbformat": 4
 },
 "nbformat": 4,
 "nbformat_minor": 2
}
