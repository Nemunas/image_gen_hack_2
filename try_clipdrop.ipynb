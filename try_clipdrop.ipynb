{
 "cells": [
  {
   "cell_type": "code",
   "execution_count": 1,
   "metadata": {},
   "outputs": [],
   "source": [
    "from helpers import compose_images_from_json, remove_background"
   ]
  },
  {
   "cell_type": "code",
   "execution_count": 2,
   "metadata": {},
   "outputs": [
    {
     "name": "stdout",
     "output_type": "stream",
     "text": [
      "Background removal successful!\n"
     ]
    }
   ],
   "source": [
    "api_key = '0706932b60565a10cab014f0d5299b91ad4f5ac818311ee0d4a0a4244e164645be0df1394fc57c74f939042d9e995456'\n",
    "input_path = 'input_image.jpg'\n",
    "output_path = 'output_image.png'\n",
    "\n",
    "success = remove_background(input_path, output_path, api_key)\n",
    "if success:\n",
    "    print(\"Background removal successful!\")\n",
    "else:\n",
    "    print(\"Failed to remove background.\")"
   ]
  },
  {
   "cell_type": "code",
   "execution_count": 30,
   "metadata": {},
   "outputs": [
    {
     "name": "stdout",
     "output_type": "stream",
     "text": [
      "Composed image saved to forest_composition_output.png\n",
      "Composed image saved to village_composition_output.png\n"
     ]
    },
    {
     "ename": "FileNotFoundError",
     "evalue": "[Errno 2] No such file or directory: 'backgrounds/forest_huttreasure_room_composition.json'",
     "output_type": "error",
     "traceback": [
      "\u001b[0;31m---------------------------------------------------------------------------\u001b[0m",
      "\u001b[0;31mFileNotFoundError\u001b[0m                         Traceback (most recent call last)",
      "Cell \u001b[0;32mIn[30], line 9\u001b[0m\n\u001b[1;32m      1\u001b[0m story_keys \u001b[39m=\u001b[39m [\n\u001b[1;32m      2\u001b[0m     \u001b[39m'\u001b[39m\u001b[39mforest\u001b[39m\u001b[39m'\u001b[39m,\n\u001b[1;32m      3\u001b[0m     \u001b[39m'\u001b[39m\u001b[39mvillage\u001b[39m\u001b[39m'\u001b[39m, \n\u001b[1;32m      4\u001b[0m     \u001b[39m'\u001b[39m\u001b[39mforest_hut\u001b[39m\u001b[39m'\u001b[39m\n\u001b[1;32m      5\u001b[0m     \u001b[39m'\u001b[39m\u001b[39mtreasure_room\u001b[39m\u001b[39m'\u001b[39m,     \n\u001b[1;32m      6\u001b[0m ]\n\u001b[1;32m      8\u001b[0m \u001b[39mfor\u001b[39;00m key \u001b[39min\u001b[39;00m story_keys:\n\u001b[0;32m----> 9\u001b[0m     compose_images_from_json(\n\u001b[1;32m     10\u001b[0m         input_image_path \u001b[39m=\u001b[39;49m \u001b[39mf\u001b[39;49m\u001b[39m'\u001b[39;49m\u001b[39moutput_image.png\u001b[39;49m\u001b[39m'\u001b[39;49m,  \n\u001b[1;32m     11\u001b[0m         json_path \u001b[39m=\u001b[39;49m \u001b[39mf\u001b[39;49m\u001b[39m'\u001b[39;49m\u001b[39mbackgrounds/\u001b[39;49m\u001b[39m{\u001b[39;49;00mkey\u001b[39m}\u001b[39;49;00m\u001b[39m_composition.json\u001b[39;49m\u001b[39m'\u001b[39;49m,\n\u001b[1;32m     12\u001b[0m         output_image_path \u001b[39m=\u001b[39;49m \u001b[39mf\u001b[39;49m\u001b[39m'\u001b[39;49m\u001b[39m{\u001b[39;49;00mkey\u001b[39m}\u001b[39;49;00m\u001b[39m_composition_output.png\u001b[39;49m\u001b[39m'\u001b[39;49m\n\u001b[1;32m     13\u001b[0m     )\n",
      "File \u001b[0;32m~/m dev/random_work/image_gen_hack/helpers.py:65\u001b[0m, in \u001b[0;36mcompose_images_from_json\u001b[0;34m(input_image_path, json_path, output_image_path)\u001b[0m\n\u001b[1;32m     47\u001b[0m \u001b[39m\u001b[39m\u001b[39m\"\"\"\u001b[39;00m\n\u001b[1;32m     48\u001b[0m \u001b[39mCompose an image from a JSON configuration file.\u001b[39;00m\n\u001b[1;32m     49\u001b[0m \n\u001b[0;32m   (...)\u001b[0m\n\u001b[1;32m     61\u001b[0m \u001b[39m- \"fraction_of_height\": Fraction of the background image height that the input image should cover.\u001b[39;00m\n\u001b[1;32m     62\u001b[0m \u001b[39m\"\"\"\u001b[39;00m\n\u001b[1;32m     64\u001b[0m \u001b[39m# Load the configuration from the JSON file\u001b[39;00m\n\u001b[0;32m---> 65\u001b[0m \u001b[39mwith\u001b[39;00m \u001b[39mopen\u001b[39;49m(json_path, \u001b[39m'\u001b[39;49m\u001b[39mr\u001b[39;49m\u001b[39m'\u001b[39;49m) \u001b[39mas\u001b[39;00m file:\n\u001b[1;32m     66\u001b[0m     config \u001b[39m=\u001b[39m json\u001b[39m.\u001b[39mload(file)\n\u001b[1;32m     68\u001b[0m \u001b[39m# Extract the configuration values\u001b[39;00m\n",
      "\u001b[0;31mFileNotFoundError\u001b[0m: [Errno 2] No such file or directory: 'backgrounds/forest_huttreasure_room_composition.json'"
     ]
    }
   ],
   "source": [
    "story_keys = [\n",
    "    'forest',\n",
    "    'village', \n",
    "    'forest_hut'\n",
    "    'treasure_room',     \n",
    "]\n",
    "\n",
    "for key in story_keys:\n",
    "    output_image_path = f'{key}_composition_output.png'\n",
    "    compose_images_from_json(\n",
    "        input_image_path = f'output_image.png',  \n",
    "        json_path = f'backgrounds/{key}_composition.json',\n",
    "        output_image_path = output_image_path\n",
    "    )\n",
    "    outputs.append(output_image_path)"
   ]
  },
  {
   "cell_type": "code",
   "execution_count": 3,
   "metadata": {},
   "outputs": [
    {
     "name": "stdout",
     "output_type": "stream",
     "text": [
      "Composed image saved to forest_composition_output.png\n"
     ]
    }
   ],
   "source": [
    "compose_images_from_json(\n",
    "    input_image_path = 'output_image.png',  \n",
    "    json_path = 'backgrounds/forest_composition.json',\n",
    "    output_image_path = 'forest_composition_output.png'\n",
    ")"
   ]
  },
  {
   "cell_type": "code",
   "execution_count": 3,
   "metadata": {},
   "outputs": [
    {
     "name": "stdout",
     "output_type": "stream",
     "text": [
      "Composed image saved to village_composition_output.png\n"
     ]
    }
   ],
   "source": [
    "compose_images_from_json(\n",
    "    input_image_path = 'output_image.png',  \n",
    "    json_path = 'backgrounds/village_composition.json',\n",
    "    output_image_path = 'village_composition_output.png'\n",
    ")"
   ]
  },
  {
   "cell_type": "code",
   "execution_count": 17,
   "metadata": {},
   "outputs": [
    {
     "name": "stdout",
     "output_type": "stream",
     "text": [
      "Composed image saved to treasure_room_composition_output.png\n"
     ]
    }
   ],
   "source": [
    "compose_images_from_json(\n",
    "    input_image_path = 'output_image.png',  \n",
    "    json_path = 'backgrounds/treasure_room_composition.json',\n",
    "    output_image_path = 'treasure_room_composition_output.png'\n",
    ")"
   ]
  },
  {
   "cell_type": "code",
   "execution_count": 28,
   "metadata": {},
   "outputs": [
    {
     "name": "stdout",
     "output_type": "stream",
     "text": [
      "Composed image saved to forest_hut_composition_output.png\n"
     ]
    }
   ],
   "source": [
    "compose_images_from_json(\n",
    "    input_image_path = 'output_image.png',  \n",
    "    json_path = 'backgrounds/forest_hut_composition.json',\n",
    "    output_image_path = 'forest_hut_composition_output.png'\n",
    ")"
   ]
  }
 ],
 "metadata": {
  "kernelspec": {
   "display_name": ".venv",
   "language": "python",
   "name": "python3"
  },
  "language_info": {
   "codemirror_mode": {
    "name": "ipython",
    "version": 3
   },
   "file_extension": ".py",
   "mimetype": "text/x-python",
   "name": "python",
   "nbconvert_exporter": "python",
   "pygments_lexer": "ipython3",
   "version": "3.10.4"
  },
  "orig_nbformat": 4
 },
 "nbformat": 4,
 "nbformat_minor": 2
}
